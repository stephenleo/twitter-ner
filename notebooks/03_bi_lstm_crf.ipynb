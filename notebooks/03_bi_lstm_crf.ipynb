{
 "cells": [
  {
   "cell_type": "markdown",
   "metadata": {},
   "source": [
    "# Reference\n",
    "- [Bidirectional LSTM-CRF Models for Sequence Tagging](https://arxiv.org/pdf/1508.01991.pdf)"
   ]
  },
  {
   "cell_type": "code",
   "execution_count": 1,
   "metadata": {},
   "outputs": [],
   "source": [
    "import pandas as pd\n",
    "import numpy as np\n",
    "import matplotlib.pyplot as plt\n",
    "from sklearn.model_selection import train_test_split\n",
    "from tqdm import tqdm\n",
    "tqdm.pandas()\n",
    "\n",
    "import tensorflow as tf\n",
    "from tensorflow.keras.layers import Input, Embedding, Bidirectional, GRU, LSTM, Dense, TimeDistributed\n",
    "from tf2crf import CRF, ModelWithCRFLoss, ModelWithCRFLossDSCLoss\n",
    "from tensorflow.keras.optimizers import Adam\n",
    "from tensorflow.keras.models import Model\n",
    "from tensorflow.keras.callbacks import Callback, ModelCheckpoint, EarlyStopping\n",
    "\n",
    "import fasttext\n",
    "import fasttext.util\n",
    "\n",
    "import helpers\n",
    "from seqeval.metrics import classification_report\n",
    "from seqeval.metrics import f1_score\n",
    "# fasttext.util.download_model('en', if_exists='ignore')"
   ]
  },
  {
   "cell_type": "code",
   "execution_count": null,
   "metadata": {},
   "outputs": [],
   "source": [
    "# !cp cc.en.300.bin ../models/\n",
    "# !rm cc.en.300.bin.gz"
   ]
  },
  {
   "cell_type": "markdown",
   "metadata": {},
   "source": [
    "# Read Data"
   ]
  },
  {
   "cell_type": "code",
   "execution_count": 2,
   "metadata": {},
   "outputs": [
    {
     "name": "stdout",
     "output_type": "stream",
     "text": [
      "(2394, 2) (3850, 2)\n"
     ]
    },
    {
     "data": {
      "text/html": [
       "<div>\n",
       "<style scoped>\n",
       "    .dataframe tbody tr th:only-of-type {\n",
       "        vertical-align: middle;\n",
       "    }\n",
       "\n",
       "    .dataframe tbody tr th {\n",
       "        vertical-align: top;\n",
       "    }\n",
       "\n",
       "    .dataframe thead th {\n",
       "        text-align: right;\n",
       "    }\n",
       "</style>\n",
       "<table border=\"1\" class=\"dataframe\">\n",
       "  <thead>\n",
       "    <tr style=\"text-align: right;\">\n",
       "      <th></th>\n",
       "      <th>tokens</th>\n",
       "      <th>tags</th>\n",
       "    </tr>\n",
       "  </thead>\n",
       "  <tbody>\n",
       "    <tr>\n",
       "      <th>0</th>\n",
       "      <td>[&lt;USR&gt;, &lt;USR&gt;, they, will, be, all, done, by, ...</td>\n",
       "      <td>[O, O, O, O, O, O, O, O, O, O, O, O]</td>\n",
       "    </tr>\n",
       "    <tr>\n",
       "      <th>1</th>\n",
       "      <td>[Made, it, back, home, to, GA, ., It, sucks, n...</td>\n",
       "      <td>[O, O, O, O, O, B-geo-loc, O, O, O, O, O, O, O...</td>\n",
       "    </tr>\n",
       "    <tr>\n",
       "      <th>2</th>\n",
       "      <td>[', Breaking, Dawn, ', Returns, to, Vancouver,...</td>\n",
       "      <td>[O, B-movie, I-movie, O, O, O, B-geo-loc, O, O...</td>\n",
       "    </tr>\n",
       "    <tr>\n",
       "      <th>3</th>\n",
       "      <td>[&lt;USR&gt;, perhaps, ,, but, folks, may, find, som...</td>\n",
       "      <td>[O, O, O, O, O, O, O, O, O, O, O, O, O, O, O, ...</td>\n",
       "    </tr>\n",
       "    <tr>\n",
       "      <th>4</th>\n",
       "      <td>[&lt;USR&gt;, aye, been, tonight, -, excellent]</td>\n",
       "      <td>[O, O, O, O, O, O]</td>\n",
       "    </tr>\n",
       "  </tbody>\n",
       "</table>\n",
       "</div>"
      ],
      "text/plain": [
       "                                              tokens  \\\n",
       "0  [<USR>, <USR>, they, will, be, all, done, by, ...   \n",
       "1  [Made, it, back, home, to, GA, ., It, sucks, n...   \n",
       "2  [', Breaking, Dawn, ', Returns, to, Vancouver,...   \n",
       "3  [<USR>, perhaps, ,, but, folks, may, find, som...   \n",
       "4          [<USR>, aye, been, tonight, -, excellent]   \n",
       "\n",
       "                                                tags  \n",
       "0               [O, O, O, O, O, O, O, O, O, O, O, O]  \n",
       "1  [O, O, O, O, O, B-geo-loc, O, O, O, O, O, O, O...  \n",
       "2  [O, B-movie, I-movie, O, O, O, B-geo-loc, O, O...  \n",
       "3  [O, O, O, O, O, O, O, O, O, O, O, O, O, O, O, ...  \n",
       "4                                 [O, O, O, O, O, O]  "
      ]
     },
     "execution_count": 2,
     "metadata": {},
     "output_type": "execute_result"
    }
   ],
   "source": [
    "# Load Data\n",
    "train_tokens, train_tags = helpers.read_data('../data/wnut16/train')\n",
    "test_tokens, test_tags = helpers.read_data('../data/wnut16/test')\n",
    "\n",
    "train_df = pd.DataFrame({'tokens': train_tokens, 'tags': train_tags})\n",
    "test_df = pd.DataFrame({'tokens': test_tokens, 'tags': test_tags})\n",
    "\n",
    "print(train_df.shape, test_df.shape)\n",
    "train_df.head()"
   ]
  },
  {
   "cell_type": "code",
   "execution_count": 3,
   "metadata": {},
   "outputs": [
    {
     "name": "stdout",
     "output_type": "stream",
     "text": [
      "Train Max length: 39\n",
      "Test Max length: 35\n"
     ]
    },
    {
     "data": {
      "image/png": "[encoded data removed]",
      "text/plain": [
       "<Figure size 432x288 with 1 Axes>"
      ]
     },
     "metadata": {
      "needs_background": "light"
     },
     "output_type": "display_data"
    }
   ],
   "source": [
    "# Length of sequences\n",
    "train_seq_len = [len(item) for item in train_df['tokens']]\n",
    "test_seq_len = [len(item) for item in test_df['tokens']]\n",
    "print(f'Train Max length: {max(train_seq_len)}')\n",
    "print(f'Test Max length: {max(test_seq_len)}')\n",
    "plt.hist(train_seq_len, bins=50, alpha=0.3, label='train')\n",
    "plt.hist(test_seq_len, bins=50, alpha=0.3, label='test')\n",
    "plt.legend();"
   ]
  },
  {
   "cell_type": "markdown",
   "metadata": {},
   "source": [
    "# Embeddings"
   ]
  },
  {
   "cell_type": "code",
   "execution_count": 4,
   "metadata": {},
   "outputs": [
    {
     "name": "stderr",
     "output_type": "stream",
     "text": [
      "Warning : `load_model` does not return WordVectorModel or SupervisedModel any more, but a `FastText` object which is very similar.\n"
     ]
    }
   ],
   "source": [
    "# Constants\n",
    "emb_size = 300\n",
    "max_seq_len = 50\n",
    "\n",
    "ft = fasttext.load_model('../models/cc.en.300.bin') "
   ]
  },
  {
   "cell_type": "code",
   "execution_count": 5,
   "metadata": {},
   "outputs": [
    {
     "name": "stderr",
     "output_type": "stream",
     "text": [
      "100%|██████████| 2394/2394 [00:00<00:00, 3760.93it/s]\n",
      "100%|██████████| 3850/3850 [00:00<00:00, 4424.33it/s]\n"
     ]
    },
    {
     "data": {
      "text/html": [
       "<div>\n",
       "<style scoped>\n",
       "    .dataframe tbody tr th:only-of-type {\n",
       "        vertical-align: middle;\n",
       "    }\n",
       "\n",
       "    .dataframe tbody tr th {\n",
       "        vertical-align: top;\n",
       "    }\n",
       "\n",
       "    .dataframe thead th {\n",
       "        text-align: right;\n",
       "    }\n",
       "</style>\n",
       "<table border=\"1\" class=\"dataframe\">\n",
       "  <thead>\n",
       "    <tr style=\"text-align: right;\">\n",
       "      <th></th>\n",
       "      <th>tokens</th>\n",
       "      <th>tags</th>\n",
       "      <th>tokens_embedding</th>\n",
       "    </tr>\n",
       "  </thead>\n",
       "  <tbody>\n",
       "    <tr>\n",
       "      <th>0</th>\n",
       "      <td>[&lt;USR&gt;, &lt;USR&gt;, they, will, be, all, done, by, ...</td>\n",
       "      <td>[O, O, O, O, O, O, O, O, O, O, O, O]</td>\n",
       "      <td>[[0.026040812954306602, -0.038135215640068054,...</td>\n",
       "    </tr>\n",
       "    <tr>\n",
       "      <th>1</th>\n",
       "      <td>[Made, it, back, home, to, GA, ., It, sucks, n...</td>\n",
       "      <td>[O, O, O, O, O, B-geo-loc, O, O, O, O, O, O, O...</td>\n",
       "      <td>[[0.13131043314933777, -0.06371604651212692, 0...</td>\n",
       "    </tr>\n",
       "  </tbody>\n",
       "</table>\n",
       "</div>"
      ],
      "text/plain": [
       "                                              tokens  \\\n",
       "0  [<USR>, <USR>, they, will, be, all, done, by, ...   \n",
       "1  [Made, it, back, home, to, GA, ., It, sucks, n...   \n",
       "\n",
       "                                                tags  \\\n",
       "0               [O, O, O, O, O, O, O, O, O, O, O, O]   \n",
       "1  [O, O, O, O, O, B-geo-loc, O, O, O, O, O, O, O...   \n",
       "\n",
       "                                    tokens_embedding  \n",
       "0  [[0.026040812954306602, -0.038135215640068054,...  \n",
       "1  [[0.13131043314933777, -0.06371604651212692, 0...  "
      ]
     },
     "execution_count": 5,
     "metadata": {},
     "output_type": "execute_result"
    }
   ],
   "source": [
    "# Convert Tokens to Embedding\n",
    "def get_tok_emb(tokens): \n",
    "    emb = np.zeros((max_seq_len, emb_size))\n",
    "    \n",
    "    for i, word in enumerate(tokens[:max_seq_len]):\n",
    "        emb[i] = ft.get_word_vector(word)\n",
    "    return emb        \n",
    "    \n",
    "train_df['tokens_embedding'] = train_df['tokens'].progress_apply(get_tok_emb)\n",
    "test_df['tokens_embedding'] = test_df['tokens'].progress_apply(get_tok_emb)\n",
    "\n",
    "train_df.head(2)"
   ]
  },
  {
   "cell_type": "code",
   "execution_count": 6,
   "metadata": {},
   "outputs": [
    {
     "name": "stderr",
     "output_type": "stream",
     "text": [
      "100%|██████████| 2394/2394 [00:00<00:00, 110502.75it/s]\n",
      "100%|██████████| 3850/3850 [00:00<00:00, 128111.50it/s]\n"
     ]
    },
    {
     "data": {
      "text/html": [
       "<div>\n",
       "<style scoped>\n",
       "    .dataframe tbody tr th:only-of-type {\n",
       "        vertical-align: middle;\n",
       "    }\n",
       "\n",
       "    .dataframe tbody tr th {\n",
       "        vertical-align: top;\n",
       "    }\n",
       "\n",
       "    .dataframe thead th {\n",
       "        text-align: right;\n",
       "    }\n",
       "</style>\n",
       "<table border=\"1\" class=\"dataframe\">\n",
       "  <thead>\n",
       "    <tr style=\"text-align: right;\">\n",
       "      <th></th>\n",
       "      <th>tokens</th>\n",
       "      <th>tags</th>\n",
       "      <th>tokens_embedding</th>\n",
       "      <th>tags_embedding</th>\n",
       "    </tr>\n",
       "  </thead>\n",
       "  <tbody>\n",
       "    <tr>\n",
       "      <th>0</th>\n",
       "      <td>[&lt;USR&gt;, &lt;USR&gt;, they, will, be, all, done, by, ...</td>\n",
       "      <td>[O, O, O, O, O, O, O, O, O, O, O, O]</td>\n",
       "      <td>[[0.026040812954306602, -0.038135215640068054,...</td>\n",
       "      <td>[21, 21, 21, 21, 21, 21, 21, 21, 21, 21, 21, 2...</td>\n",
       "    </tr>\n",
       "    <tr>\n",
       "      <th>1</th>\n",
       "      <td>[Made, it, back, home, to, GA, ., It, sucks, n...</td>\n",
       "      <td>[O, O, O, O, O, B-geo-loc, O, O, O, O, O, O, O...</td>\n",
       "      <td>[[0.13131043314933777, -0.06371604651212692, 0...</td>\n",
       "      <td>[21, 21, 21, 21, 21, 3, 21, 21, 21, 21, 21, 21...</td>\n",
       "    </tr>\n",
       "  </tbody>\n",
       "</table>\n",
       "</div>"
      ],
      "text/plain": [
       "                                              tokens  \\\n",
       "0  [<USR>, <USR>, they, will, be, all, done, by, ...   \n",
       "1  [Made, it, back, home, to, GA, ., It, sucks, n...   \n",
       "\n",
       "                                                tags  \\\n",
       "0               [O, O, O, O, O, O, O, O, O, O, O, O]   \n",
       "1  [O, O, O, O, O, B-geo-loc, O, O, O, O, O, O, O...   \n",
       "\n",
       "                                    tokens_embedding  \\\n",
       "0  [[0.026040812954306602, -0.038135215640068054,...   \n",
       "1  [[0.13131043314933777, -0.06371604651212692, 0...   \n",
       "\n",
       "                                      tags_embedding  \n",
       "0  [21, 21, 21, 21, 21, 21, 21, 21, 21, 21, 21, 2...  \n",
       "1  [21, 21, 21, 21, 21, 3, 21, 21, 21, 21, 21, 21...  "
      ]
     },
     "execution_count": 6,
     "metadata": {},
     "output_type": "execute_result"
    }
   ],
   "source": [
    "# Convert Tags to Indices\n",
    "all_unique_tags = np.unique([item for tags in train_tags for item in tags])\n",
    "tag2index = {value:key+1 for key, value in enumerate(all_unique_tags)}\n",
    "tag2index['B-PAD'] = 0\n",
    "index2tag = {key:value for value, key in tag2index.items()}\n",
    "\n",
    "def get_tag_emb(tags):\n",
    "    emb = np.zeros((max_seq_len), dtype=int)\n",
    "    \n",
    "    for i, tag in enumerate(tags[:max_seq_len]):\n",
    "        emb[i] = tag2index.get(tag)\n",
    "    return emb \n",
    "\n",
    "train_df['tags_embedding'] = train_df['tags'].progress_apply(get_tag_emb)\n",
    "test_df['tags_embedding'] = test_df['tags'].progress_apply(get_tag_emb)\n",
    "train_df.head(2)"
   ]
  },
  {
   "cell_type": "markdown",
   "metadata": {},
   "source": [
    "# Model"
   ]
  },
  {
   "cell_type": "code",
   "execution_count": 7,
   "metadata": {},
   "outputs": [
    {
     "name": "stderr",
     "output_type": "stream",
     "text": [
      "/home/stephenleo/anaconda3/envs/tf-gpu/lib/python3.8/site-packages/tensorflow/python/autograph/impl/api.py:390: UserWarning: CRF Decoding does not work with KerasTensors in TF2.4. The bug has since been fixed in tensorflow/tensorflow##45534\n",
      "  return py_builtins.overload_of(f)(*args)\n"
     ]
    }
   ],
   "source": [
    "rnn_units = 64\n",
    "num_tags = len(tag2index)\n",
    "lr = 0.01\n",
    "\n",
    "def birnn_crf(max_len_seq, emb_size, rnn_units, num_tags, lr):\n",
    "\n",
    "    inputs = Input(shape=(max_len_seq, emb_size), dtype='float32')\n",
    "    output = Bidirectional(GRU(rnn_units, return_sequences=True))(inputs)\n",
    "    output = CRF(units=num_tags, dtype='float32')(output)\n",
    "    \n",
    "    base_model = Model(inputs, output)\n",
    "    model = ModelWithCRFLoss(base_model)\n",
    "    model.compile(optimizer=Adam(lr))\n",
    "    \n",
    "    return model\n",
    "\n",
    "model = birnn_crf(max_seq_len, emb_size, rnn_units, num_tags, lr)"
   ]
  },
  {
   "cell_type": "markdown",
   "metadata": {},
   "source": [
    "# Training"
   ]
  },
  {
   "cell_type": "code",
   "execution_count": 8,
   "metadata": {},
   "outputs": [
    {
     "name": "stdout",
     "output_type": "stream",
     "text": [
      "(1603, 50, 300) (1603, 50)\n"
     ]
    }
   ],
   "source": [
    "# Split Train and Val\n",
    "X = train_df['tokens_embedding'].values.tolist()\n",
    "y = train_df['tags_embedding'].values.tolist()\n",
    "\n",
    "X_train, X_val, y_train, y_val = train_test_split(X, y, test_size=0.33, random_state=42)\n",
    "print(np.asarray(X_train).shape, np.asarray(y_train).shape)"
   ]
  },
  {
   "cell_type": "code",
   "execution_count": 9,
   "metadata": {
    "scrolled": true
   },
   "outputs": [
    {
     "name": "stdout",
     "output_type": "stream",
     "text": [
      "Epoch 1/100\n",
      "51/51 [==============================] - 16s 136ms/step - loss: 18.6569 - accuracy: 0.9131 - val_loss_val: 5.4188 - val_val_accuracy: 0.9757\n",
      "\n",
      "Epoch 00001: val_val_accuracy improved from -inf to 0.97568, saving model to ../models/03_bi_lstm_crf/best_model\n",
      "Epoch 2/100\n",
      "51/51 [==============================] - 4s 87ms/step - loss: 4.6778 - accuracy: 0.9780 - val_loss_val: 4.0370 - val_val_accuracy: 0.9800\n",
      "\n",
      "Epoch 00002: val_val_accuracy improved from 0.97568 to 0.98003, saving model to ../models/03_bi_lstm_crf/best_model\n",
      "Epoch 3/100\n",
      "51/51 [==============================] - 4s 89ms/step - loss: 3.4109 - accuracy: 0.9819 - val_loss_val: 3.4113 - val_val_accuracy: 0.9814\n",
      "\n",
      "Epoch 00003: val_val_accuracy improved from 0.98003 to 0.98139, saving model to ../models/03_bi_lstm_crf/best_model\n",
      "Epoch 4/100\n",
      "51/51 [==============================] - 4s 87ms/step - loss: 2.6637 - accuracy: 0.9848 - val_loss_val: 3.1490 - val_val_accuracy: 0.9830\n",
      "\n",
      "Epoch 00004: val_val_accuracy improved from 0.98139 to 0.98301, saving model to ../models/03_bi_lstm_crf/best_model\n",
      "Epoch 5/100\n",
      "51/51 [==============================] - 4s 89ms/step - loss: 2.0806 - accuracy: 0.9878 - val_loss_val: 2.9740 - val_val_accuracy: 0.9828\n",
      "\n",
      "Epoch 00005: val_val_accuracy did not improve from 0.98301\n",
      "Epoch 6/100\n",
      "51/51 [==============================] - 5s 90ms/step - loss: 1.5861 - accuracy: 0.9904 - val_loss_val: 2.9268 - val_val_accuracy: 0.9836\n",
      "\n",
      "Epoch 00006: val_val_accuracy improved from 0.98301 to 0.98362, saving model to ../models/03_bi_lstm_crf/best_model\n",
      "Epoch 7/100\n",
      "51/51 [==============================] - 5s 101ms/step - loss: 1.2464 - accuracy: 0.9926 - val_loss_val: 2.9929 - val_val_accuracy: 0.9836\n",
      "\n",
      "Epoch 00007: val_val_accuracy did not improve from 0.98362\n",
      "Epoch 8/100\n",
      "51/51 [==============================] - 5s 96ms/step - loss: 0.9496 - accuracy: 0.9943 - val_loss_val: 2.9753 - val_val_accuracy: 0.9834\n",
      "\n",
      "Epoch 00008: val_val_accuracy did not improve from 0.98362\n",
      "Epoch 9/100\n",
      "51/51 [==============================] - 5s 90ms/step - loss: 0.7250 - accuracy: 0.9957 - val_loss_val: 3.1098 - val_val_accuracy: 0.9831\n",
      "\n",
      "Epoch 00009: val_val_accuracy did not improve from 0.98362\n",
      "Epoch 10/100\n",
      "51/51 [==============================] - 5s 89ms/step - loss: 0.5483 - accuracy: 0.9971 - val_loss_val: 3.2436 - val_val_accuracy: 0.9836\n",
      "\n",
      "Epoch 00010: val_val_accuracy did not improve from 0.98362\n",
      "Epoch 11/100\n",
      "51/51 [==============================] - 5s 92ms/step - loss: 0.4354 - accuracy: 0.9981 - val_loss_val: 3.3343 - val_val_accuracy: 0.9820\n",
      "\n",
      "Epoch 00011: val_val_accuracy did not improve from 0.98362\n",
      "Restoring model weights from the end of the best epoch.\n",
      "Epoch 00011: early stopping\n"
     ]
    }
   ],
   "source": [
    "np.random.seed(55)\n",
    "tf.random.set_seed(55)\n",
    "\n",
    "cp_callback = ModelCheckpoint(filepath='../models/03_bi_lstm_crf/best_model', verbose=1, monitor='val_val_accuracy',\n",
    "                              mode='max', save_weights_only=False, save_best_only=True)\n",
    "\n",
    "earlystop = EarlyStopping(monitor='val_val_accuracy', patience=5, verbose=1, mode='max', \n",
    "                          baseline=None, restore_best_weights=True)\n",
    "\n",
    "callbacks = [cp_callback, earlystop]\n",
    "\n",
    "history = model.fit(x=np.asarray(X_train), y=np.asarray(y_train), \n",
    "                    validation_data=(np.asarray(X_val), np.asarray(y_val)), \n",
    "                    callbacks=callbacks,\n",
    "                    epochs=100)"
   ]
  },
  {
   "cell_type": "code",
   "execution_count": 10,
   "metadata": {},
   "outputs": [
    {
     "data": {
      "image/png": "[encoded data removed]",
      "text/plain": [
       "<Figure size 432x288 with 1 Axes>"
      ]
     },
     "metadata": {
      "needs_background": "light"
     },
     "output_type": "display_data"
    }
   ],
   "source": [
    "plt.plot(history.history['accuracy'], label='train')\n",
    "plt.plot(history.history['val_val_accuracy'], label='val')\n",
    "plt.legend();"
   ]
  },
  {
   "cell_type": "markdown",
   "metadata": {},
   "source": [
    "# Testing"
   ]
  },
  {
   "cell_type": "code",
   "execution_count": 11,
   "metadata": {},
   "outputs": [
    {
     "data": {
      "text/plain": [
       "<tensorflow.python.training.tracking.util.CheckpointLoadStatus at 0x7facbc34b940>"
      ]
     },
     "execution_count": 11,
     "metadata": {},
     "output_type": "execute_result"
    }
   ],
   "source": [
    "model = birnn_crf(max_seq_len, emb_size, rnn_units, num_tags, lr)\n",
    "model.load_weights('../models/03_bi_lstm_crf/best_model')"
   ]
  },
  {
   "cell_type": "code",
   "execution_count": 12,
   "metadata": {},
   "outputs": [],
   "source": [
    "X_test = np.asarray(test_df['tokens_embedding'].values.tolist())\n",
    "y_test = np.asarray(test_df['tags_embedding'].values.tolist())\n",
    "\n",
    "predicted_tags = model.predict(X_test)"
   ]
  },
  {
   "cell_type": "code",
   "execution_count": 13,
   "metadata": {},
   "outputs": [],
   "source": [
    "def tag_lookup(row):\n",
    "    len_tags = len(row['tags'])\n",
    "    pred_tags_embedding = row['pred_tags_embedding'][:len_tags]\n",
    "    \n",
    "    return [index2tag.get(idx, 'O') for idx in pred_tags_embedding]"
   ]
  },
  {
   "cell_type": "code",
   "execution_count": 14,
   "metadata": {},
   "outputs": [
    {
     "data": {
      "text/html": [
       "<div>\n",
       "<style scoped>\n",
       "    .dataframe tbody tr th:only-of-type {\n",
       "        vertical-align: middle;\n",
       "    }\n",
       "\n",
       "    .dataframe tbody tr th {\n",
       "        vertical-align: top;\n",
       "    }\n",
       "\n",
       "    .dataframe thead th {\n",
       "        text-align: right;\n",
       "    }\n",
       "</style>\n",
       "<table border=\"1\" class=\"dataframe\">\n",
       "  <thead>\n",
       "    <tr style=\"text-align: right;\">\n",
       "      <th></th>\n",
       "      <th>tokens</th>\n",
       "      <th>tags</th>\n",
       "      <th>tokens_embedding</th>\n",
       "      <th>tags_embedding</th>\n",
       "      <th>pred_tags_embedding</th>\n",
       "      <th>pred_tags</th>\n",
       "    </tr>\n",
       "  </thead>\n",
       "  <tbody>\n",
       "    <tr>\n",
       "      <th>0</th>\n",
       "      <td>[New, Orleans, Mother, 's, Day, Parade, shooti...</td>\n",
       "      <td>[B-other, I-other, I-other, I-other, I-other, ...</td>\n",
       "      <td>[[0.07400361448526382, -0.1139359399676323, 0....</td>\n",
       "      <td>[6, 16, 16, 16, 16, 16, 21, 21, 21, 21, 21, 21...</td>\n",
       "      <td>[21, 6, 16, 16, 16, 16, 21, 21, 21, 21, 21, 21...</td>\n",
       "      <td>[O, B-other, I-other, I-other, I-other, I-othe...</td>\n",
       "    </tr>\n",
       "    <tr>\n",
       "      <th>1</th>\n",
       "      <td>[RT, &lt;USR&gt;, :, Going, into, school, tomorrow, ...</td>\n",
       "      <td>[O, O, O, O, O, O, O, O, O, O, O]</td>\n",
       "      <td>[[-0.1761685013771057, 0.21183152496814728, -0...</td>\n",
       "      <td>[21, 21, 21, 21, 21, 21, 21, 21, 21, 21, 21, 0...</td>\n",
       "      <td>[21, 21, 21, 21, 21, 21, 21, 21, 21, 21, 21, 0...</td>\n",
       "      <td>[O, O, O, O, O, O, O, O, O, O, O]</td>\n",
       "    </tr>\n",
       "  </tbody>\n",
       "</table>\n",
       "</div>"
      ],
      "text/plain": [
       "                                              tokens  \\\n",
       "0  [New, Orleans, Mother, 's, Day, Parade, shooti...   \n",
       "1  [RT, <USR>, :, Going, into, school, tomorrow, ...   \n",
       "\n",
       "                                                tags  \\\n",
       "0  [B-other, I-other, I-other, I-other, I-other, ...   \n",
       "1                  [O, O, O, O, O, O, O, O, O, O, O]   \n",
       "\n",
       "                                    tokens_embedding  \\\n",
       "0  [[0.07400361448526382, -0.1139359399676323, 0....   \n",
       "1  [[-0.1761685013771057, 0.21183152496814728, -0...   \n",
       "\n",
       "                                      tags_embedding  \\\n",
       "0  [6, 16, 16, 16, 16, 16, 21, 21, 21, 21, 21, 21...   \n",
       "1  [21, 21, 21, 21, 21, 21, 21, 21, 21, 21, 21, 0...   \n",
       "\n",
       "                                 pred_tags_embedding  \\\n",
       "0  [21, 6, 16, 16, 16, 16, 21, 21, 21, 21, 21, 21...   \n",
       "1  [21, 21, 21, 21, 21, 21, 21, 21, 21, 21, 21, 0...   \n",
       "\n",
       "                                           pred_tags  \n",
       "0  [O, B-other, I-other, I-other, I-other, I-othe...  \n",
       "1                  [O, O, O, O, O, O, O, O, O, O, O]  "
      ]
     },
     "execution_count": 14,
     "metadata": {},
     "output_type": "execute_result"
    }
   ],
   "source": [
    "test_df['pred_tags_embedding'] = predicted_tags.tolist()\n",
    "test_df['pred_tags'] = test_df.apply(tag_lookup, axis=1)\n",
    "test_df.head(2)"
   ]
  },
  {
   "cell_type": "code",
   "execution_count": 15,
   "metadata": {},
   "outputs": [
    {
     "name": "stdout",
     "output_type": "stream",
     "text": [
      "Overall F1 Score: 0.34\n",
      "\n",
      "Classification Report\n",
      "              precision    recall  f1-score   support\n",
      "\n",
      "         PAD       0.00      0.00      0.00         0\n",
      "     company       0.65      0.32      0.43       621\n",
      "    facility       0.44      0.15      0.22       253\n",
      "     geo-loc       0.50      0.60      0.55       882\n",
      "       movie       0.00      0.00      0.00        34\n",
      " musicartist       0.14      0.01      0.01       191\n",
      "       other       0.21      0.08      0.11       584\n",
      "      person       0.35      0.53      0.42       482\n",
      "     product       0.07      0.06      0.06       246\n",
      "  sportsteam       0.34      0.10      0.15       147\n",
      "      tvshow       0.00      0.00      0.00        33\n",
      "\n",
      "   micro avg       0.37      0.32      0.34      3473\n",
      "   macro avg       0.25      0.17      0.18      3473\n",
      "weighted avg       0.39      0.32      0.32      3473\n",
      "\n"
     ]
    }
   ],
   "source": [
    "y_true = test_df['tags'].values.tolist()\n",
    "y_pred = test_df['pred_tags'].values.tolist()\n",
    "\n",
    "print(f\"Overall F1 Score: {f1_score(y_true, y_pred):.2f}\")\n",
    "print(\"\\nClassification Report\")\n",
    "print(classification_report(y_true, y_pred, zero_division=0))"
   ]
  },
  {
   "cell_type": "markdown",
   "metadata": {},
   "source": [
    "# Results\n",
    "\n",
    "| Dataset | RNN Layer | Hidden Units |  LR  | Overall F1 | Company Precision | Company Recall | Company F1 |\n",
    "|---------|:---------:|:------------:|:----:|:----------:|:-----------------:|:--------------:|:----------:|\n",
    "| WNUT16  |  Bi-LSTM  |      64      | 0.01 |    0.36    |        0.50       |      0.42      |    0.45    |\n",
    "| WNUT16  |  Bi-LSTM  |      128     | 0.01 |    0.35    |        0.52       |      0.39      |    0.45    |\n",
    "| WNUT16  |   Bi-GRU  |      64      | 0.01 |    0.34    |        0.65       |      0.32      |    0.43    |"
   ]
  },
  {
   "cell_type": "markdown",
   "metadata": {},
   "source": [
    "# Check predictions"
   ]
  },
  {
   "cell_type": "code",
   "execution_count": 16,
   "metadata": {},
   "outputs": [],
   "source": [
    "def print_results(index):\n",
    "    tokens = test_df.iloc[index]['tokens']\n",
    "    tags = test_df.iloc[index]['tags']\n",
    "    pred_tags = test_df.iloc[index]['pred_tags']\n",
    "    \n",
    "    for idx, token in enumerate(tokens):\n",
    "        print(f'{token} \\t Tag -> {tags[idx]} \\t Pred_Tag -> {pred_tags[idx]}')"
   ]
  },
  {
   "cell_type": "code",
   "execution_count": 17,
   "metadata": {},
   "outputs": [
    {
     "name": "stdout",
     "output_type": "stream",
     "text": [
      "<USR> \t Tag -> O \t Pred_Tag -> O\n",
      "Albert \t Tag -> B-person \t Pred_Tag -> B-person\n",
      "Nobbs \t Tag -> I-person \t Pred_Tag -> I-person\n",
      "( \t Tag -> O \t Pred_Tag -> O\n",
      "Glenn \t Tag -> B-person \t Pred_Tag -> B-person\n",
      "Close)is \t Tag -> O \t Pred_Tag -> O\n",
      "a \t Tag -> O \t Pred_Tag -> O\n",
      "woman \t Tag -> O \t Pred_Tag -> O\n",
      "living \t Tag -> O \t Pred_Tag -> O\n",
      "as \t Tag -> O \t Pred_Tag -> O\n",
      "a \t Tag -> O \t Pred_Tag -> O\n",
      "man \t Tag -> O \t Pred_Tag -> O\n",
      "in \t Tag -> O \t Pred_Tag -> O\n",
      "order \t Tag -> O \t Pred_Tag -> O\n",
      "to \t Tag -> O \t Pred_Tag -> O\n",
      "find \t Tag -> O \t Pred_Tag -> O\n",
      "work \t Tag -> O \t Pred_Tag -> O\n",
      "in \t Tag -> O \t Pred_Tag -> O\n",
      "the \t Tag -> O \t Pred_Tag -> O\n",
      "harsh \t Tag -> O \t Pred_Tag -> O\n",
      "environment \t Tag -> O \t Pred_Tag -> B-PAD\n",
      "of \t Tag -> O \t Pred_Tag -> B-PAD\n",
      "19th-century \t Tag -> O \t Pred_Tag -> B-PAD\n",
      "Ireland \t Tag -> B-geo-loc \t Pred_Tag -> B-PAD\n"
     ]
    }
   ],
   "source": [
    "print_results(4)"
   ]
  },
  {
   "cell_type": "code",
   "execution_count": null,
   "metadata": {},
   "outputs": [],
   "source": []
  },
  {
   "cell_type": "markdown",
   "metadata": {},
   "source": [
    "# ---- Backup ----"
   ]
  },
  {
   "cell_type": "code",
   "execution_count": 18,
   "metadata": {
    "scrolled": true,
    "tags": []
   },
   "outputs": [],
   "source": [
    "# def get_scores(true_tags, pred_tags):\n",
    "#     size = max_seq_len if len(true_tags)>=max_seq_len else len(true_tags)\n",
    "#     true_tags = true_tags[:size]\n",
    "#     all_tags = np.unique([true_tags]+[pred_tags])\n",
    "#     x = classification_report(y_true=true_tags, y_pred=pred_tags, target_names=all_tags, output_dict=True, zero_division=0)\n",
    "    \n",
    "#     overall_f1 = x['weighted avg']['f1-score']\n",
    "#     b_company_f1 = x['B-company']['f1-score'] if 'B-company' in x else np.nan\n",
    "#     i_company_f1 = x['I-company']['f1-score'] if 'I-company' in x else np.nan\n",
    "    \n",
    "#     overall_precision = x['weighted avg']['precision']\n",
    "#     b_company_precision = x['B-company']['precision'] if 'B-company' in x else np.nan\n",
    "#     i_company_precision = x['I-company']['precision'] if 'I-company' in x else np.nan\n",
    "    \n",
    "#     return pd.Series((overall_f1, b_company_f1, i_company_f1, \n",
    "#                       overall_precision, b_company_precision, i_company_precision))\n",
    "\n",
    "# metric_cols = ['weighted_f1', 'B-company_f1', 'I-company_f1', \n",
    "#                'weighted_precision', 'B-company_precision', 'I-company_precision']\n",
    "# test_df[metric_cols] = test_df.progress_apply(lambda x: get_scores(x['tags'], x['pred_tags']), axis=1)\n",
    "# test_df.head(2)"
   ]
  }
 ],
 "metadata": {
  "environment": {
   "name": "tf2-gpu.2-1.m50",
   "type": "gcloud",
   "uri": "gcr.io/deeplearning-platform-release/tf2-gpu.2-1:m50"
  },
  "kernelspec": {
   "display_name": "Python 3",
   "language": "python",
   "name": "python3"
  },
  "language_info": {
   "codemirror_mode": {
    "name": "ipython",
    "version": 3
   },
   "file_extension": ".py",
   "mimetype": "text/x-python",
   "name": "python",
   "nbconvert_exporter": "python",
   "pygments_lexer": "ipython3",
   "version": "3.8.8"
  }
 },
 "nbformat": 4,
 "nbformat_minor": 4
}
